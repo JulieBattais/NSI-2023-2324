{
  "metadata": {
    "colab": {
      "provenance": []
    },
    "kernelspec": {
      "name": "python",
      "display_name": "Python (Pyodide)",
      "language": "python"
    },
    "language_info": {
      "codemirror_mode": {
        "name": "python",
        "version": 3
      },
      "file_extension": ".py",
      "mimetype": "text/x-python",
      "name": "python",
      "nbconvert_exporter": "python",
      "pygments_lexer": "ipython3",
      "version": "3.8"
    }
  },
  "nbformat_minor": 4,
  "nbformat": 4,
  "cells": [
    {
      "cell_type": "markdown",
      "source": " <p align =center> <img src=\"https://github.com/esabahi/NSI_Images/blob/main/NSI-Image.png?raw=true\" width=350>\n    </p>",
      "metadata": {
        "id": "9w6gqUk23GWS"
      }
    },
    {
      "cell_type": "markdown",
      "source": "<h1 style=\"font-size: 30px; text-align: center\">TD5.4-Mise au point des programmes et gestion des bugs\n\n---\n\n# 🟥 Documenter son programme\n\n## 🐍 Exercice 1\n\n**Q1** : Donnez un meilleur nom et une chaîne de documentation à la fonction suivante.\n\n```python\ndef f(a, b):\n    return a + b\n```",
      "metadata": {
        "id": "GlWSTcNftLXO"
      }
    },
    {
      "cell_type": "code",
      "source": "# à vous de jouer !\n\ndef addition(a, b):\n    '''\n    Renvoie la valeur de a+b.\n    Paramètres:\n        a :float\n        b :float\n    '''\n    return a + b",
      "metadata": {
        "id": "DVHmN_5CtLXS",
        "trusted": true
      },
      "execution_count": 15,
      "outputs": []
    },
    {
      "cell_type": "markdown",
      "source": "**Q2** : Utilisez la fonction `help` pour accéder à la chaîne de documentation de cette fonction.",
      "metadata": {
        "id": "QkCK4yBztLXU"
      }
    },
    {
      "cell_type": "code",
      "source": "# à vous de jouer !\nhelp(addition)",
      "metadata": {
        "id": "xbFb6lyBtLXU",
        "trusted": true
      },
      "execution_count": 16,
      "outputs": [
        {
          "name": "stdout",
          "text": "Help on function addition in module __main__:\n\naddition(a, b)\n    Renvoie la valeur de a+b.\n    Paramètres:\n        a :float\n        b :float\n\n",
          "output_type": "stream"
        }
      ]
    },
    {
      "cell_type": "markdown",
      "source": "## 🐍 Exercice 2\n\n**Q1** : Donnez un meilleur nom et une chaîne de documentation à la fonction suivante, le paramètre `t` étant un tableau.\n\n```python\ndef mystere(t):\n    s = 0\n    for i in range(len(t)):\n        s = s + t[i]\n    return s / n\n```",
      "metadata": {
        "id": "nx5ge4bAtLXV"
      }
    },
    {
      "cell_type": "code",
      "source": "# à vous de jouer !\n\ndef moyenne(t):\n    '''\n    Renvoie la moyenne des éléments d'un tableaux.\n    Paramètres:\n        t : tableau de nombres flottants\n    '''\n    s = 0\n    n = len(t)\n    for i in range(len(t)):\n        s = s + t[i]\n    return s / n",
      "metadata": {
        "id": "il9m1YvEtLXV",
        "trusted": true
      },
      "execution_count": 17,
      "outputs": []
    },
    {
      "cell_type": "markdown",
      "source": "**Q2** : Utilisez la fonction `help` pour accéder à la chaîne de documentation de cette fonction.",
      "metadata": {
        "id": "G91FljqJtLXV"
      }
    },
    {
      "cell_type": "code",
      "source": "# à vous de jouer !\nhelp(moyenne)",
      "metadata": {
        "id": "pjFeagOatLXV",
        "trusted": true
      },
      "execution_count": 18,
      "outputs": [
        {
          "name": "stdout",
          "text": "Help on function moyenne in module __main__:\n\nmoyenne(t)\n    Renvoie la moyenne des éléments d'un tableaux.\n    Paramètres:\n        t : tableau de nombres flottants\n\n",
          "output_type": "stream"
        }
      ]
    },
    {
      "cell_type": "markdown",
      "source": "# 🟥 Programmation défensive\n\n## 🐍 Exercice 3\n\nOn considère la fonction `indice_maxi_tab(T)` suivante. À l'aide de la construction `assert`, proposez un test vérifiant si la précondition sur le tableau `T` est validée (*on ne cherchera pas à écrire la fonction*).",
      "metadata": {
        "id": "KdSb9o6wtLXV"
      }
    },
    {
      "cell_type": "code",
      "source": "def indice_maxi_tab(T):\n    \"\"\"\n    Renvoie l'indice de la première occurence de la valeur\n    maximale du tableau T. T est supposé non vide.\n    \"\"\"\n    assert type(T) == list and len(T) > 0, \"T n'est pas un tableau non vide.\"\n        \n\nindice_maxi_tab([])\n",
      "metadata": {
        "id": "Klk3T4SJtLXW",
        "trusted": true
      },
      "execution_count": 27,
      "outputs": [
        {
          "ename": "<class 'AssertionError'>",
          "evalue": "T n'est pas un tableau non vide.",
          "traceback": [
            "\u001b[0;31m---------------------------------------------------------------------------\u001b[0m",
            "\u001b[0;31mAssertionError\u001b[0m                            Traceback (most recent call last)",
            "Cell \u001b[0;32mIn[27], line 9\u001b[0m\n\u001b[1;32m      2\u001b[0m \u001b[38;5;250m    \u001b[39m\u001b[38;5;124;03m\"\"\"\u001b[39;00m\n\u001b[1;32m      3\u001b[0m \u001b[38;5;124;03m    Renvoie l'indice de la première occurence de la valeur\u001b[39;00m\n\u001b[1;32m      4\u001b[0m \u001b[38;5;124;03m    maximale du tableau T. T est supposé non vide.\u001b[39;00m\n\u001b[1;32m      5\u001b[0m \u001b[38;5;124;03m    \"\"\"\u001b[39;00m\n\u001b[1;32m      6\u001b[0m     \u001b[38;5;28;01massert\u001b[39;00m \u001b[38;5;28mtype\u001b[39m(T) \u001b[38;5;241m==\u001b[39m \u001b[38;5;28mlist\u001b[39m \u001b[38;5;129;01mand\u001b[39;00m \u001b[38;5;28mlen\u001b[39m(T) \u001b[38;5;241m>\u001b[39m \u001b[38;5;241m0\u001b[39m, \u001b[38;5;124m\"\u001b[39m\u001b[38;5;124mT n\u001b[39m\u001b[38;5;124m'\u001b[39m\u001b[38;5;124mest pas un tableau non vide.\u001b[39m\u001b[38;5;124m\"\u001b[39m\n\u001b[0;32m----> 9\u001b[0m \u001b[43mindice_maxi_tab\u001b[49m\u001b[43m(\u001b[49m\u001b[43m[\u001b[49m\u001b[43m]\u001b[49m\u001b[43m)\u001b[49m\n",
            "Cell \u001b[0;32mIn[27], line 6\u001b[0m, in \u001b[0;36mindice_maxi_tab\u001b[0;34m(T)\u001b[0m\n\u001b[1;32m      1\u001b[0m \u001b[38;5;28;01mdef\u001b[39;00m \u001b[38;5;21mindice_maxi_tab\u001b[39m(T):\n\u001b[1;32m      2\u001b[0m \u001b[38;5;250m    \u001b[39m\u001b[38;5;124;03m\"\"\"\u001b[39;00m\n\u001b[1;32m      3\u001b[0m \u001b[38;5;124;03m    Renvoie l'indice de la première occurence de la valeur\u001b[39;00m\n\u001b[1;32m      4\u001b[0m \u001b[38;5;124;03m    maximale du tableau T. T est supposé non vide.\u001b[39;00m\n\u001b[1;32m      5\u001b[0m \u001b[38;5;124;03m    \"\"\"\u001b[39;00m\n\u001b[0;32m----> 6\u001b[0m     \u001b[38;5;28;01massert\u001b[39;00m \u001b[38;5;28mtype\u001b[39m(T) \u001b[38;5;241m==\u001b[39m \u001b[38;5;28mlist\u001b[39m \u001b[38;5;129;01mand\u001b[39;00m \u001b[38;5;28mlen\u001b[39m(T) \u001b[38;5;241m>\u001b[39m \u001b[38;5;241m0\u001b[39m, \u001b[38;5;124m\"\u001b[39m\u001b[38;5;124mT n\u001b[39m\u001b[38;5;124m'\u001b[39m\u001b[38;5;124mest pas un tableau non vide.\u001b[39m\u001b[38;5;124m\"\u001b[39m\n",
            "\u001b[0;31mAssertionError\u001b[0m: T n'est pas un tableau non vide."
          ],
          "output_type": "error"
        }
      ]
    },
    {
      "cell_type": "markdown",
      "source": "## 🐍 Exercice 4\n\nOn considère la fonction `quotient(a, b)` suivante. À l'aide de la construction `assert`, proposez un test vérifiant si les préconditions sont validées.\n",
      "metadata": {
        "id": "NsHDXOfbtLXW"
      }
    },
    {
      "cell_type": "code",
      "source": "def quotient(a, b):\n    '''\n    Renvoie la valeur du quotient de a par b, b étant non nul.\n    '''\n    assert b != 0, \"b ne doit pas être nul.\"\n\nquotient(7,0)",
      "metadata": {
        "id": "NG5OBDXDtLXW",
        "trusted": true
      },
      "execution_count": 33,
      "outputs": [
        {
          "ename": "<class 'AssertionError'>",
          "evalue": "b ne doit pas être nul.",
          "traceback": [
            "\u001b[0;31m---------------------------------------------------------------------------\u001b[0m",
            "\u001b[0;31mAssertionError\u001b[0m                            Traceback (most recent call last)",
            "Cell \u001b[0;32mIn[33], line 7\u001b[0m\n\u001b[1;32m      2\u001b[0m \u001b[38;5;250m    \u001b[39m\u001b[38;5;124;03m'''\u001b[39;00m\n\u001b[1;32m      3\u001b[0m \u001b[38;5;124;03m    Renvoie la valeur du quotient de a par b, b étant non nul.\u001b[39;00m\n\u001b[1;32m      4\u001b[0m \u001b[38;5;124;03m    '''\u001b[39;00m\n\u001b[1;32m      5\u001b[0m     \u001b[38;5;28;01massert\u001b[39;00m b \u001b[38;5;241m!=\u001b[39m\u001b[38;5;241m0\u001b[39m, \u001b[38;5;124m\"\u001b[39m\u001b[38;5;124mb ne doit pas être nul.\u001b[39m\u001b[38;5;124m\"\u001b[39m\n\u001b[0;32m----> 7\u001b[0m \u001b[43mquotient\u001b[49m\u001b[43m(\u001b[49m\u001b[38;5;241;43m7\u001b[39;49m\u001b[43m,\u001b[49m\u001b[38;5;241;43m0\u001b[39;49m\u001b[43m)\u001b[49m\n",
            "Cell \u001b[0;32mIn[33], line 5\u001b[0m, in \u001b[0;36mquotient\u001b[0;34m(a, b)\u001b[0m\n\u001b[1;32m      1\u001b[0m \u001b[38;5;28;01mdef\u001b[39;00m \u001b[38;5;21mquotient\u001b[39m(a, b):\n\u001b[1;32m      2\u001b[0m \u001b[38;5;250m    \u001b[39m\u001b[38;5;124;03m'''\u001b[39;00m\n\u001b[1;32m      3\u001b[0m \u001b[38;5;124;03m    Renvoie la valeur du quotient de a par b, b étant non nul.\u001b[39;00m\n\u001b[1;32m      4\u001b[0m \u001b[38;5;124;03m    '''\u001b[39;00m\n\u001b[0;32m----> 5\u001b[0m     \u001b[38;5;28;01massert\u001b[39;00m b \u001b[38;5;241m!=\u001b[39m\u001b[38;5;241m0\u001b[39m, \u001b[38;5;124m\"\u001b[39m\u001b[38;5;124mb ne doit pas être nul.\u001b[39m\u001b[38;5;124m\"\u001b[39m\n",
            "\u001b[0;31mAssertionError\u001b[0m: b ne doit pas être nul."
          ],
          "output_type": "error"
        }
      ]
    },
    {
      "cell_type": "markdown",
      "source": "# 🟥 Tester ses programmes\n\n## 🐍 Exercice 5\n\n\n**Q1** : En utilisant `assert`, donnez un jeu de tests de qualité pour la fonction `multiplication` suivante.\n\n**Q2** : Vérifiez ensuite que les tests passent avec succès.",
      "metadata": {
        "id": "th-Kejq1tLXX"
      }
    },
    {
      "cell_type": "code",
      "source": "def multiplication(a, b):\n    '''\n    Renvoie le produit de a par b,\n    où a et b sont deux nombres quelconques.\n    '''\n    return a * b\n\nassert multiplication(3,5) == 15\nassert multiplication(-3,5) == -15\nassert multiplication(-3,-5) == 15\nassert multiplication(0.5,-0.2) == -0.1\nassert multiplication(0,3) ==0\n\n\n# jeu de tests à écrire ici",
      "metadata": {
        "id": "PFxJcBNotLXX",
        "trusted": true
      },
      "execution_count": 36,
      "outputs": []
    },
    {
      "cell_type": "markdown",
      "source": "## 🐍 Exercice 6\n\n\n**Q1** : En utilisant `assert`, donnez un jeu de tests de qualité pour la fonction `somme` suivante.\n\n**Q2** : Vérifiez ensuite que les tests passent avec succès.\n\n```python\ndef somme(t):\n    '''\n    Renvoie la somme des éléments du tableau t,\n    t étant un tableau de nombres\n    '''\n    s = 0\n    for i in range(len(t)):\n        s = s + t[i]\n    return s\n```",
      "metadata": {
        "id": "sXwgk7MBtLXX"
      }
    },
    {
      "cell_type": "markdown",
      "source": "",
      "metadata": {
        "id": "40yxOiF-3B8X"
      }
    },
    {
      "cell_type": "code",
      "source": "# à vous de jouer !\ndef somme(t):\n    '''\n    Renvoie la somme des éléments du tableau t,\n    t étant un tableau de nombres\n    '''\n    s = 0\n    for i in range(len(t)):\n        s = s + t[i]\n    return s\n\nassert somme([1,2,3]) == 6\nassert somme([0.5,0.2,0.3]) == 1\nassert somme([-3,2,1]) == 0\nassert somme([-1,-2,-3]) == -6\nassert somme([0,1]) == 1\nassert somme([])==0\nassert somme([7])==7\nassert somme([1.2, 2.3, 1.1]) == 4.6",
      "metadata": {
        "id": "aKd0ZiZ-tLXX",
        "trusted": true
      },
      "execution_count": 39,
      "outputs": []
    },
    {
      "cell_type": "markdown",
      "source": "## 🐍 Exercice 7\n\nOn cherche à écrire une fonction `est_croissant(t)` qui renvoie `True` si le tableau `t` est trié dans l'ordre croissant et `False` sinon.\n\n**Q1** : Complétez la fonction `tests_est_croissante` avec un jeu de tests de qualité pour la fonction `est_croissante` (*on ne cherchera pas à écrire le code de la fonction*).\n\n> <span style=\"font-size:1.5em\">📣</span> Ici, on écrit tous les tests dans une fonction, qu'il suffira d'appeler par la suite pour lancer les tests",
      "metadata": {
        "id": "9IAWq4P4tLXX"
      }
    },
    {
      "cell_type": "code",
      "source": "# à vous de jouer !\n\ndef tests_est_croissante():\n    \"\"\"\n    Fonction lançant des tests pour la fonction est_croissante\n    \"\"\"\n    assert est_croissant([1,2,3]) == True\n    assert est_croissant([5,2.3,1,9,17]) == False\n    assert est_croissant([]) == True\n    assert est_croissant([1,2,3,0.2]) == False\n    assert est_croissant([5,1]) == False",
      "metadata": {
        "id": "Zq6KPO6XtLXY",
        "trusted": true
      },
      "execution_count": 69,
      "outputs": []
    },
    {
      "cell_type": "markdown",
      "source": "**Q2** : Un elève propose le code suivant pour la fonction `est_croissant(t)` de l'exercice précédent. Faites passer vos tests à cette fonction.\n",
      "metadata": {
        "id": "pWD0ioIvtLXY"
      }
    },
    {
      "cell_type": "code",
      "source": "def est_croissant(t):\n    \"\"\"\n    Renvoie True si le tableau t est trié dans l'ordre croissant,\n    et False sinon.\n    \"\"\"\n    for i in range(len(t)):\n        if t[i+1] > t[i]:\n            return False\n    return True\n\ntests_est_croissante()",
      "metadata": {
        "id": "sIj1-GFktLXY",
        "trusted": true
      },
      "execution_count": 68,
      "outputs": [
        {
          "ename": "<class 'IndexError'>",
          "evalue": "list index out of range",
          "traceback": [
            "\u001b[0;31m---------------------------------------------------------------------------\u001b[0m",
            "\u001b[0;31mIndexError\u001b[0m                                Traceback (most recent call last)",
            "Cell \u001b[0;32mIn[68], line 11\u001b[0m\n\u001b[1;32m      8\u001b[0m             \u001b[38;5;28;01mreturn\u001b[39;00m \u001b[38;5;28;01mFalse\u001b[39;00m\n\u001b[1;32m      9\u001b[0m     \u001b[38;5;28;01mreturn\u001b[39;00m \u001b[38;5;28;01mTrue\u001b[39;00m\n\u001b[0;32m---> 11\u001b[0m \u001b[43mtests_est_croissante\u001b[49m\u001b[43m(\u001b[49m\u001b[43m)\u001b[49m\n",
            "Cell \u001b[0;32mIn[67], line 11\u001b[0m, in \u001b[0;36mtests_est_croissante\u001b[0;34m()\u001b[0m\n\u001b[1;32m      4\u001b[0m \u001b[38;5;250m\u001b[39m\u001b[38;5;124;03m\"\"\"\u001b[39;00m\n\u001b[1;32m      5\u001b[0m \u001b[38;5;124;03mFonction lançant des tests pour la fonction est_croissante\u001b[39;00m\n\u001b[1;32m      6\u001b[0m \u001b[38;5;124;03m\"\"\"\u001b[39;00m\n\u001b[1;32m      7\u001b[0m \u001b[38;5;66;03m#assert est_croissant([1,2,3]) == True\u001b[39;00m\n\u001b[1;32m      8\u001b[0m \u001b[38;5;66;03m#assert est_croissant([5,2.3,1,9,17]) == False\u001b[39;00m\n\u001b[1;32m      9\u001b[0m \u001b[38;5;66;03m#assert est_croissant([]) == True\u001b[39;00m\n\u001b[1;32m     10\u001b[0m \u001b[38;5;66;03m#assert est_croissant([1,2,3,0.2]) == False\u001b[39;00m\n\u001b[0;32m---> 11\u001b[0m \u001b[38;5;28;01massert\u001b[39;00m \u001b[43mest_croissant\u001b[49m\u001b[43m(\u001b[49m\u001b[43m[\u001b[49m\u001b[38;5;241;43m5\u001b[39;49m\u001b[43m,\u001b[49m\u001b[38;5;241;43m1\u001b[39;49m\u001b[43m]\u001b[49m\u001b[43m)\u001b[49m \u001b[38;5;241m==\u001b[39m \u001b[38;5;28;01mFalse\u001b[39;00m\n",
            "Cell \u001b[0;32mIn[68], line 7\u001b[0m, in \u001b[0;36mest_croissant\u001b[0;34m(t)\u001b[0m\n\u001b[1;32m      2\u001b[0m \u001b[38;5;250m\u001b[39m\u001b[38;5;124;03m\"\"\"\u001b[39;00m\n\u001b[1;32m      3\u001b[0m \u001b[38;5;124;03mRenvoie True si le tableau t est trié dans l'ordre croissant,\u001b[39;00m\n\u001b[1;32m      4\u001b[0m \u001b[38;5;124;03met False sinon.\u001b[39;00m\n\u001b[1;32m      5\u001b[0m \u001b[38;5;124;03m\"\"\"\u001b[39;00m\n\u001b[1;32m      6\u001b[0m \u001b[38;5;28;01mfor\u001b[39;00m i \u001b[38;5;129;01min\u001b[39;00m \u001b[38;5;28mrange\u001b[39m(\u001b[38;5;28mlen\u001b[39m(t)):\n\u001b[0;32m----> 7\u001b[0m     \u001b[38;5;28;01mif\u001b[39;00m \u001b[43mt\u001b[49m\u001b[43m[\u001b[49m\u001b[43mi\u001b[49m\u001b[38;5;241;43m+\u001b[39;49m\u001b[38;5;241;43m1\u001b[39;49m\u001b[43m]\u001b[49m \u001b[38;5;241m>\u001b[39m t[i]:\n\u001b[1;32m      8\u001b[0m         \u001b[38;5;28;01mreturn\u001b[39;00m \u001b[38;5;28;01mFalse\u001b[39;00m\n\u001b[1;32m      9\u001b[0m \u001b[38;5;28;01mreturn\u001b[39;00m \u001b[38;5;28;01mTrue\u001b[39;00m\n",
            "\u001b[0;31mIndexError\u001b[0m: list index out of range"
          ],
          "output_type": "error"
        }
      ]
    },
    {
      "cell_type": "markdown",
      "source": "**Q3** : Trouvez l'erreur, soit en affichant l'état de certaines variables à des points stratégiques, soit en utilisant l'outil [Python tutor](https://pythontutor.com/python-debugger.html#mode=edit). Quelle est cette erreur ?\n\n",
      "metadata": {
        "id": "kmm8ClwPtLXY"
      }
    },
    {
      "cell_type": "raw",
      "source": "Réponse : L'erreur est que le programme renvoie false seulement si le programme est entirrement decroissant car il regarde si le nombre avant est plus grand que le nombre d'après et ilfaut changer le len en len(t)-1",
      "metadata": {
        "id": "eIv1-XQdtLXY"
      }
    },
    {
      "cell_type": "markdown",
      "source": "**Q4** : Corrigez alors le code de la fonction et vérifiez que tous les tests sont validés.",
      "metadata": {
        "id": "-L62LB19tLXY"
      }
    },
    {
      "cell_type": "code",
      "source": "# à vous de jouer !\ndef est_croissant(t):\n    \"\"\"\n    Renvoie True si le tableau t est trié dans l'ordre croissant,\n    et False sinon.\n    \"\"\"\n    for i in range(len(t)-1):\n        if t[i+1] < t[i]:\n            return False\n    return True\n\ntests_est_croissante()",
      "metadata": {
        "id": "xEmJJbHBtLXZ",
        "trusted": true
      },
      "execution_count": 74,
      "outputs": []
    },
    {
      "cell_type": "markdown",
      "source": "## 🐍 Exercice 8\n\nOn veut écrire une fonction `annee_naissance(prenom, tab)` qui renvoie l'année de naissance de la personne ayant pour prénom `prenom` dans le tableau `tab`, dont les éléments sont des tuples de la forme (prénom, année de naissance, ville de naissance). Si `prenom` n'apparaît pas dans `tab` alors la fonction doit renvoyer `None`.\n\nExemple :\n\n```python\n>>> tab = [('Lucas', 2002, 'Marseille'), ('Élodie', 2003, 'Angers'), ('Marie', 2001, 'Angers'), ('Jade', 2007, 'New York')]\n>>> annee_naissance('Marie', tab)\n2001\n```",
      "metadata": {
        "id": "O8mpgLsYtLXZ"
      }
    },
    {
      "cell_type": "markdown",
      "source": "**Q1** : Proposez une fonction `test_annee_naissance` qui permettra de tester la fonction `annee_naissance` grâce à un jeu de tests bien choisi.",
      "metadata": {
        "id": "qfK5fzOVtLXZ"
      }
    },
    {
      "cell_type": "code",
      "source": "# à vous de jouer !\ndef test_annee_naissance():\n    tab = [('Lucas', 2002, 'Marseille'), ('Élodie', 2003, 'Angers'), ('Marie', 2001, 'Angers'), ('Erwan', 2007, 'New York')]\n    assert annee_naissance('Erwan',tab) == 2007\n    assert annee_naissance('Maxime',tab) == None\n    assert annee_naissance('Lucas',tab) == 2002\n    assert annee_naissance('Élodie',tab) == 2003",
      "metadata": {
        "id": "aLZy5wPstLXZ",
        "trusted": true
      },
      "execution_count": 76,
      "outputs": []
    },
    {
      "cell_type": "markdown",
      "source": "**Q2** : Écrivez la fonction `annee_naissance(prenom, tab)` et vérifiez qu'elle passe tous les tests.",
      "metadata": {
        "id": "yXwIQzz8tLXa"
      }
    },
    {
      "cell_type": "code",
      "source": "# à vous de jouer !\ndef annee_naissance(prenom, tab):\n    for personne in tab:\n        if personne[0] == prenom:\n            return personne[1]\n    return None\n\ntest_annee_naissance()",
      "metadata": {
        "id": "Vfh9M-uHtLXa",
        "trusted": true
      },
      "execution_count": 77,
      "outputs": []
    },
    {
      "cell_type": "markdown",
      "source": "## 🐍 Exercice 9\n\nOn veut écrire une fonction `meilleure_note` qui prend en paramètre un dictionnaire `resultats` dans lequel les clés sont des prénoms d'élèves et leurs valeurs associées sont des notes à un devoir, et qui renvoie la meilleure note à ce devoir.\n\nExemple :\n\n```python\n>>> meilleure_note({'Marie': 15, 'Laurent': 12, 'Julie': 18, 'Antoine': 17})\n18\n```\n\n**Q1** : Écrivez la chaîne de documentation de cette fonction `meilleure_note` pour y intégrer directement les tests.",
      "metadata": {
        "id": "fFzA0QTstLXa"
      }
    },
    {
      "cell_type": "code",
      "source": "# à vous de jouer !\ndef meilleure_note(resultat):\n    '''\n    Renvoie la meilleure note par rapport au devoir.\n    \n    >>> meilleure_note({'Marie': 15, 'Laurent': 12, 'Julie': 18, 'Antoine': 17})\n    18\n    \n    >>> meilleure_note({'Marie': 17, 'Laurent': 3, 'Julie': 12, 'Antoine': 17.5})\n    17.5\n    \n    >>> meilleure_note({'Marie': 19.99, 'Laurent': 15, 'Julie': 8, 'Antoine': 16})\n    19.99\n    \n    >>> meilleure_note({'Marie': 8, 'Laurent': 14, 'Julie': 4, 'Antoine': 12})\n    14\n    '''\n    \n    max_note = max(resultat.values())\n    return max_note\n            ",
      "metadata": {
        "id": "qXHTCkxUtLXa",
        "trusted": true
      },
      "execution_count": 1,
      "outputs": []
    },
    {
      "cell_type": "markdown",
      "source": "**Q2** : Écrivez le code de cette fonction.\n\n**Q3** : Utilisez le module `doctest` pour vérifier les tests intégrés à la chaîne de documentation. Modifiez la fonction si les tests échouent.",
      "metadata": {
        "id": "OcebVU6dtLXa"
      }
    },
    {
      "cell_type": "code",
      "source": "# à vous de jouer !\nimport doctest\ndef meilleure_note(resultat):\n    '''\n    Renvoie la meilleure note par rapport au devoir.\n    \n    >>> meilleure_note({'Marie': 15, 'Laurent': 12, 'Julie': 18, 'Antoine': 17})\n    18\n    \n    >>> meilleure_note({'Marie': 17, 'Laurent': 3, 'Julie': 12, 'Antoine': 17.5})\n    17.5\n    \n    >>> meilleure_note({'Marie': 19.99, 'Laurent': 15, 'Julie': 8, 'Antoine': 16})\n    19.99\n    \n    >>> meilleure_note({'Marie': 8, 'Laurent': 14, 'Julie': 4, 'Antoine': 12})\n    14\n    '''\n    \n    max_note = max(resultat.values())\n    return max_note\n            \n    \n#doctest.testmod()",
      "metadata": {
        "id": "1toYlgoAtLXb",
        "trusted": true
      },
      "execution_count": 8,
      "outputs": []
    },
    {
      "cell_type": "markdown",
      "source": "---\n\n**Références :**\n- Documents ressources du DIU EIL Nantes, C. DECLERCQ.\n- Numérique et Sciences Informatiques, 1re, T. BALABONSKI, S. CONCHON, J.-C. FILLIATRE, K. NGUYEN, éditions ELLIPSES : [Site du livre](https://www.nsi-premiere.fr/)\n-Germain BECKER & Sébastien POINT, Lycée Mounier, ANGERS",
      "metadata": {
        "id": "5O7H9-ektLXb"
      }
    },
    {
      "cell_type": "markdown",
      "source": "| <span style='color:Blue'> L.H & E.S |  | |   | |     |<span style='color:Blue'> NSI Terminale | |   | ||<span style='color:Blue'> Lycée Ozanam (Lille)|\n| --- | --- |--- |--- |--- |--- | --- | --- |--- |--- | --- | --- |",
      "metadata": {
        "id": "3AMQDjOf4CpJ"
      }
    }
  ]
}