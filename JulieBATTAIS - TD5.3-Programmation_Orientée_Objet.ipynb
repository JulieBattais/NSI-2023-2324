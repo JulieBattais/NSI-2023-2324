{
  "metadata": {
    "colab": {
      "provenance": []
    },
    "kernelspec": {
      "name": "python",
      "display_name": "Python (Pyodide)",
      "language": "python"
    },
    "language_info": {
      "codemirror_mode": {
        "name": "python",
        "version": 3
      },
      "file_extension": ".py",
      "mimetype": "text/x-python",
      "name": "python",
      "nbconvert_exporter": "python",
      "pygments_lexer": "ipython3",
      "version": "3.8"
    }
  },
  "nbformat_minor": 5,
  "nbformat": 4,
  "cells": [
    {
      "cell_type": "markdown",
      "source": "---",
      "metadata": {},
      "id": "ed0a8088"
    },
    {
      "cell_type": "markdown",
      "source": " <p align =center> <img src=\"https://github.com/esabahi/NSI_Images/blob/main/NSI-Image.png?raw=true\" width=350>\n    </p>",
      "metadata": {},
      "id": "b88a1932"
    },
    {
      "cell_type": "markdown",
      "source": "# TD5.3 - Programmation_Orientée_Objet\n\n\n****************************************\n\n",
      "metadata": {
        "id": "W84lcE_dziVB"
      },
      "id": "W84lcE_dziVB"
    },
    {
      "cell_type": "markdown",
      "source": "Exercice 1:",
      "metadata": {},
      "id": "f083c0e8"
    },
    {
      "cell_type": "markdown",
      "source": "Votre réponse:\n\n---------\n<font color='green'>ici.....</font>\n",
      "metadata": {
        "id": "1c703444"
      },
      "id": "1c703444"
    },
    {
      "cell_type": "code",
      "source": "class Film:\n    def __init__(self, titre, realisateur):\n        self.titre = titre\n        self.realisateur = realisateur\n\nclass Personne:\n    def __init__ (self, nom, date_naissance, lieu_naissance):\n        self.nom = nom\n        self.date_naissance = date_naissance\n        self.lieu_naissance = lieu_naissance\n\nFilm(\"Laba\", \"Matt\")\nacteur=Personne(\"Erwan\", 2006, \"Lille\")\nrealisateur=Personne(\"Baingeamain\", 1999, \"Tokyo\")\nprint(realisateur.date_naissance)",
      "metadata": {
        "vscode": {
          "languageId": "plaintext"
        },
        "trusted": true
      },
      "execution_count": 7,
      "outputs": [
        {
          "name": "stdout",
          "text": "1999\n",
          "output_type": "stream"
        }
      ],
      "id": "8c5f9934"
    },
    {
      "cell_type": "markdown",
      "source": "Exercice 2:",
      "metadata": {},
      "id": "260c6300"
    },
    {
      "cell_type": "markdown",
      "source": "Votre réponse:\n\n---------\n<font color='green'>ici.....</font>\n",
      "metadata": {},
      "id": "a8a8886a"
    },
    {
      "cell_type": "code",
      "source": "class Adresse:\n    def __init__(self, rue, ville, code_postal):\n        self.rue = rue\n        self.ville = ville\n        self.code_postal = code_postal\n        \n        \nclass Personne:\n    def __init__(self, nom, sexe, adresses):\n        self.nom =nom\n        if sexe == \"M\" or sexe == \"F\":\n            self.sexe=sexe\n        else:\n            self.sexe=\"Nopy\"\n        self.adresses=adresses\n    \n    \na1 = Adresse(\"Ruxpt\",\"Longemerre\",\"64852\")\n\np1 = Personne(\"Brahim\",\"V\",[a1])   \nprint(p1.sexe)\n\nclass Listepersonnes:\n    def __init__(self, personnes):\n        self.personnes=personnes\n        \ndef fbn(s:str):\n    for i in range(personnes):\n        if s == personnes[i].Personne.nom:\n            return personnes[i].Personne.nom\n        elif i == s:\n            return \"NULL\"\n        else:\n            i =i+1\n\ndef exp(cp: str):\n    for i in range(personnes):\n        if len(personnes[i].Personne.addresses) <0:\n            return True\n        else:\n            return False\n        \ndef cpv(ville: str):\n    v=0\n    for i in range(personnes):\n        if ville == personnes[i].adresses:\n            v=v+1\n            return v\n        else:\n            v=v+0\n            return v\n\n        \ndef epn(oldNom: str, newNom):\n    for i in range(personnes):\n        if olfNom == personnes[i].nom:\n            personnes[i].nom = olfNom\n            return personnes[i].nom\n        \ndef epv(nom: str, newVille: str):\n    for i in range(personnes):\n        if nom == personnes[i].nom:\n            personnes[i].adresses = newVille\n            return personnes[i].adresses\n    \n    \n\nP1= Listepersonnes([p1])\nprint(P1.personnes)\n    \nfbn(\"Brahim\")\nexp(\"Ruxpt\",\"Longemerre\",\"64852\")",
      "metadata": {
        "vscode": {
          "languageId": "plaintext"
        },
        "trusted": true
      },
      "execution_count": 22,
      "outputs": [
        {
          "name": "stdout",
          "text": "Nopy\n[<__main__.Personne object at 0x2769010>]\n",
          "output_type": "stream"
        },
        {
          "ename": "<class 'NameError'>",
          "evalue": "name 'personnes' is not defined",
          "traceback": [
            "\u001b[0;31m---------------------------------------------------------------------------\u001b[0m",
            "\u001b[0;31mNameError\u001b[0m                                 Traceback (most recent call last)",
            "Cell \u001b[0;32mIn[22], line 71\u001b[0m\n\u001b[1;32m     68\u001b[0m P1\u001b[38;5;241m=\u001b[39m Listepersonnes([p1])\n\u001b[1;32m     69\u001b[0m \u001b[38;5;28mprint\u001b[39m(P1\u001b[38;5;241m.\u001b[39mpersonnes)\n\u001b[0;32m---> 71\u001b[0m \u001b[43mfbn\u001b[49m\u001b[43m(\u001b[49m\u001b[38;5;124;43m\"\u001b[39;49m\u001b[38;5;124;43mBrahim\u001b[39;49m\u001b[38;5;124;43m\"\u001b[39;49m\u001b[43m)\u001b[49m\n\u001b[1;32m     72\u001b[0m exp(\u001b[38;5;124m\"\u001b[39m\u001b[38;5;124mRuxpt\u001b[39m\u001b[38;5;124m\"\u001b[39m,\u001b[38;5;124m\"\u001b[39m\u001b[38;5;124mLongemerre\u001b[39m\u001b[38;5;124m\"\u001b[39m,\u001b[38;5;124m\"\u001b[39m\u001b[38;5;124m64852\u001b[39m\u001b[38;5;124m\"\u001b[39m)\n",
            "Cell \u001b[0;32mIn[22], line 28\u001b[0m, in \u001b[0;36mfbn\u001b[0;34m(s)\u001b[0m\n\u001b[1;32m     27\u001b[0m \u001b[38;5;28;01mdef\u001b[39;00m \u001b[38;5;21mfbn\u001b[39m(s:\u001b[38;5;28mstr\u001b[39m):\n\u001b[0;32m---> 28\u001b[0m     \u001b[38;5;28;01mfor\u001b[39;00m i \u001b[38;5;129;01min\u001b[39;00m \u001b[38;5;28mrange\u001b[39m(\u001b[43mpersonnes\u001b[49m):\n\u001b[1;32m     29\u001b[0m         \u001b[38;5;28;01mif\u001b[39;00m s \u001b[38;5;241m==\u001b[39m personnes[i]\u001b[38;5;241m.\u001b[39mPersonne\u001b[38;5;241m.\u001b[39mnom:\n\u001b[1;32m     30\u001b[0m             \u001b[38;5;28;01mreturn\u001b[39;00m personnes[i]\u001b[38;5;241m.\u001b[39mPersonne\u001b[38;5;241m.\u001b[39mnom\n",
            "\u001b[0;31mNameError\u001b[0m: name 'personnes' is not defined"
          ],
          "output_type": "error"
        }
      ],
      "id": "0c4d13fa"
    },
    {
      "cell_type": "code",
      "source": "",
      "metadata": {},
      "execution_count": null,
      "outputs": [],
      "id": "59e67ea9-53a3-434b-b46c-2a2917af6011"
    }
  ]
}